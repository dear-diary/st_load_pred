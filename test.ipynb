{
 "cells": [
  {
   "cell_type": "code",
   "execution_count": 1,
   "outputs": [
    {
     "data": {
      "text/plain": "              date_time  energy\n0   2024-10-01 00:00:00   1.050\n1   2024-10-01 01:00:00   1.110\n2   2024-10-01 02:00:00   1.095\n3   2024-10-01 03:00:00   1.110\n4   2024-10-01 04:00:00   1.065\n..                  ...     ...\n763 2024-11-01 19:00:00   0.000\n764 2024-11-01 20:00:00   0.060\n765 2024-11-01 21:00:00   0.420\n766 2024-11-01 22:00:00   0.840\n767 2024-11-01 23:00:00   1.065\n\n[768 rows x 2 columns]",
      "text/html": "<div>\n<style scoped>\n    .dataframe tbody tr th:only-of-type {\n        vertical-align: middle;\n    }\n\n    .dataframe tbody tr th {\n        vertical-align: top;\n    }\n\n    .dataframe thead th {\n        text-align: right;\n    }\n</style>\n<table border=\"1\" class=\"dataframe\">\n  <thead>\n    <tr style=\"text-align: right;\">\n      <th></th>\n      <th>date_time</th>\n      <th>energy</th>\n    </tr>\n  </thead>\n  <tbody>\n    <tr>\n      <th>0</th>\n      <td>2024-10-01 00:00:00</td>\n      <td>1.050</td>\n    </tr>\n    <tr>\n      <th>1</th>\n      <td>2024-10-01 01:00:00</td>\n      <td>1.110</td>\n    </tr>\n    <tr>\n      <th>2</th>\n      <td>2024-10-01 02:00:00</td>\n      <td>1.095</td>\n    </tr>\n    <tr>\n      <th>3</th>\n      <td>2024-10-01 03:00:00</td>\n      <td>1.110</td>\n    </tr>\n    <tr>\n      <th>4</th>\n      <td>2024-10-01 04:00:00</td>\n      <td>1.065</td>\n    </tr>\n    <tr>\n      <th>...</th>\n      <td>...</td>\n      <td>...</td>\n    </tr>\n    <tr>\n      <th>763</th>\n      <td>2024-11-01 19:00:00</td>\n      <td>0.000</td>\n    </tr>\n    <tr>\n      <th>764</th>\n      <td>2024-11-01 20:00:00</td>\n      <td>0.060</td>\n    </tr>\n    <tr>\n      <th>765</th>\n      <td>2024-11-01 21:00:00</td>\n      <td>0.420</td>\n    </tr>\n    <tr>\n      <th>766</th>\n      <td>2024-11-01 22:00:00</td>\n      <td>0.840</td>\n    </tr>\n    <tr>\n      <th>767</th>\n      <td>2024-11-01 23:00:00</td>\n      <td>1.065</td>\n    </tr>\n  </tbody>\n</table>\n<p>768 rows × 2 columns</p>\n</div>"
     },
     "execution_count": 1,
     "metadata": {},
     "output_type": "execute_result"
    }
   ],
   "source": [
    "from sqlite_operation import get_sqlite_conn, close_sqlite_conn, query_load\n",
    "from utils import df_trans\n",
    "\n",
    "def get_history_data(custom_name, his_start, his_end):\n",
    "    conn = get_sqlite_conn()\n",
    "    his_df = query_load(his_start, his_end, custom_name, conn, 'fit_load')\n",
    "    his_df = df_trans(his_df)\n",
    "    his_df = his_df.rename(columns={'time': 'date_time', 'load': 'energy'})\n",
    "    return his_df\n",
    "\n",
    "\n",
    "custom_name = '万年县英豪实业有限公司'\n",
    "his_start = '2024-10-01'\n",
    "his_end = '2024-11-01'\n",
    "result = get_history_data(custom_name, his_start, his_end)\n",
    "result"
   ],
   "metadata": {
    "collapsed": false,
    "ExecuteTime": {
     "end_time": "2025-04-02T01:16:27.292234500Z",
     "start_time": "2025-04-02T01:16:26.737126300Z"
    }
   }
  },
  {
   "cell_type": "code",
   "execution_count": null,
   "outputs": [],
   "source": [],
   "metadata": {
    "collapsed": false
   }
  }
 ],
 "metadata": {
  "kernelspec": {
   "display_name": "Python 3",
   "language": "python",
   "name": "python3"
  },
  "language_info": {
   "codemirror_mode": {
    "name": "ipython",
    "version": 2
   },
   "file_extension": ".py",
   "mimetype": "text/x-python",
   "name": "python",
   "nbconvert_exporter": "python",
   "pygments_lexer": "ipython2",
   "version": "2.7.6"
  }
 },
 "nbformat": 4,
 "nbformat_minor": 0
}
